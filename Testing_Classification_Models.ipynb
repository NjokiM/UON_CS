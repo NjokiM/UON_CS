{
  "nbformat": 4,
  "nbformat_minor": 0,
  "metadata": {
    "colab": {
      "provenance": [],
      "mount_file_id": "1b40qhEgOBaut5Iy3X7LivPquc7LDxiAX",
      "authorship_tag": "ABX9TyPbV0W3QmBVKiQCLHKB2TQJ",
      "include_colab_link": true
    },
    "kernelspec": {
      "name": "python3",
      "display_name": "Python 3"
    },
    "language_info": {
      "name": "python"
    }
  },
  "cells": [
    {
      "cell_type": "markdown",
      "metadata": {
        "id": "view-in-github",
        "colab_type": "text"
      },
      "source": [
        "<a href=\"https://colab.research.google.com/github/NjokiM/UON_CS/blob/main/Testing_Classification_Models.ipynb\" target=\"_parent\"><img src=\"https://colab.research.google.com/assets/colab-badge.svg\" alt=\"Open In Colab\"/></a>"
      ]
    },
    {
      "cell_type": "code",
      "source": [
        "#connecting to google drive \n",
        "from google.colab import drive\n",
        "drive.mount('/content/gdrive')\n",
        "%cd 'gdrive/MyDrive'"
      ],
      "metadata": {
        "colab": {
          "base_uri": "https://localhost:8080/"
        },
        "id": "vgddnDzrVM8i",
        "outputId": "09c330de-5060-4b28-e6f1-281ce065c20c"
      },
      "execution_count": 1,
      "outputs": [
        {
          "output_type": "stream",
          "name": "stdout",
          "text": [
            "Mounted at /content/gdrive\n",
            "/content/gdrive/MyDrive\n"
          ]
        }
      ]
    },
    {
      "cell_type": "code",
      "execution_count": 2,
      "metadata": {
        "id": "ymqCsy1dccX9"
      },
      "outputs": [],
      "source": [
        "#import libraries\n",
        "import pandas as pd\n",
        "import numpy as np\n",
        "import datetime as dt\n",
        "import seaborn as sns\n",
        "import matplotlib.pyplot as plt\n",
        "from sklearn.metrics import f1_score\n",
        "from lightgbm import LGBMClassifier\n",
        "from sklearn.naive_bayes import GaussianNB\n",
        "from sklearn.model_selection import train_test_split\n",
        "from sklearn.impute import SimpleImputer\n",
        "import warnings\n",
        "warnings.filterwarnings('ignore')"
      ]
    },
    {
      "cell_type": "code",
      "source": [
        "#Data\n",
        "data = pd.read_csv('MAUREEN NJOKI - credit_risk_testingdata - MAUREEN NJOKI - credit_risk_testingdata.csv')\n",
        "data.head()"
      ],
      "metadata": {
        "colab": {
          "base_uri": "https://localhost:8080/",
          "height": 288
        },
        "id": "ztGnYD0ydHcK",
        "outputId": "0d5c2cda-ee67-4eab-9b24-b465a33d5653"
      },
      "execution_count": 3,
      "outputs": [
        {
          "output_type": "execute_result",
          "data": {
            "text/plain": [
              "   Unnamed: 0  person_age  person_income person_home_ownership  \\\n",
              "0        1220          22          36900                  RENT   \n",
              "1        6889          22          50004              MORTGAGE   \n",
              "2       29945          40          28000                  RENT   \n",
              "3       15469          25         138000              MORTGAGE   \n",
              "4       25138          29          80000              MORTGAGE   \n",
              "\n",
              "   person_emp_length        loan_intent loan_grade  loan_amnt  loan_int_rate  \\\n",
              "0                5.0            VENTURE          A      16000           7.90   \n",
              "1                4.0  DEBTCONSOLIDATION          A       6250            NaN   \n",
              "2                2.0            VENTURE          C       5000          12.99   \n",
              "3                0.0            MEDICAL          B       5000          11.86   \n",
              "4                2.0           PERSONAL          A       5000           7.74   \n",
              "\n",
              "   loan_status  loan_percent_income cb_person_default_on_file  \\\n",
              "0            1                 0.43                         N   \n",
              "1            0                 0.12                         N   \n",
              "2            0                 0.18                         Y   \n",
              "3            0                 0.04                         N   \n",
              "4            0                 0.06                         N   \n",
              "\n",
              "   cb_person_cred_hist_length  \n",
              "0                           2  \n",
              "1                           4  \n",
              "2                          13  \n",
              "3                           4  \n",
              "4                           9  "
            ],
            "text/html": [
              "\n",
              "  <div id=\"df-7035eb1e-e323-419a-91c7-e477d6445d69\">\n",
              "    <div class=\"colab-df-container\">\n",
              "      <div>\n",
              "<style scoped>\n",
              "    .dataframe tbody tr th:only-of-type {\n",
              "        vertical-align: middle;\n",
              "    }\n",
              "\n",
              "    .dataframe tbody tr th {\n",
              "        vertical-align: top;\n",
              "    }\n",
              "\n",
              "    .dataframe thead th {\n",
              "        text-align: right;\n",
              "    }\n",
              "</style>\n",
              "<table border=\"1\" class=\"dataframe\">\n",
              "  <thead>\n",
              "    <tr style=\"text-align: right;\">\n",
              "      <th></th>\n",
              "      <th>Unnamed: 0</th>\n",
              "      <th>person_age</th>\n",
              "      <th>person_income</th>\n",
              "      <th>person_home_ownership</th>\n",
              "      <th>person_emp_length</th>\n",
              "      <th>loan_intent</th>\n",
              "      <th>loan_grade</th>\n",
              "      <th>loan_amnt</th>\n",
              "      <th>loan_int_rate</th>\n",
              "      <th>loan_status</th>\n",
              "      <th>loan_percent_income</th>\n",
              "      <th>cb_person_default_on_file</th>\n",
              "      <th>cb_person_cred_hist_length</th>\n",
              "    </tr>\n",
              "  </thead>\n",
              "  <tbody>\n",
              "    <tr>\n",
              "      <th>0</th>\n",
              "      <td>1220</td>\n",
              "      <td>22</td>\n",
              "      <td>36900</td>\n",
              "      <td>RENT</td>\n",
              "      <td>5.0</td>\n",
              "      <td>VENTURE</td>\n",
              "      <td>A</td>\n",
              "      <td>16000</td>\n",
              "      <td>7.90</td>\n",
              "      <td>1</td>\n",
              "      <td>0.43</td>\n",
              "      <td>N</td>\n",
              "      <td>2</td>\n",
              "    </tr>\n",
              "    <tr>\n",
              "      <th>1</th>\n",
              "      <td>6889</td>\n",
              "      <td>22</td>\n",
              "      <td>50004</td>\n",
              "      <td>MORTGAGE</td>\n",
              "      <td>4.0</td>\n",
              "      <td>DEBTCONSOLIDATION</td>\n",
              "      <td>A</td>\n",
              "      <td>6250</td>\n",
              "      <td>NaN</td>\n",
              "      <td>0</td>\n",
              "      <td>0.12</td>\n",
              "      <td>N</td>\n",
              "      <td>4</td>\n",
              "    </tr>\n",
              "    <tr>\n",
              "      <th>2</th>\n",
              "      <td>29945</td>\n",
              "      <td>40</td>\n",
              "      <td>28000</td>\n",
              "      <td>RENT</td>\n",
              "      <td>2.0</td>\n",
              "      <td>VENTURE</td>\n",
              "      <td>C</td>\n",
              "      <td>5000</td>\n",
              "      <td>12.99</td>\n",
              "      <td>0</td>\n",
              "      <td>0.18</td>\n",
              "      <td>Y</td>\n",
              "      <td>13</td>\n",
              "    </tr>\n",
              "    <tr>\n",
              "      <th>3</th>\n",
              "      <td>15469</td>\n",
              "      <td>25</td>\n",
              "      <td>138000</td>\n",
              "      <td>MORTGAGE</td>\n",
              "      <td>0.0</td>\n",
              "      <td>MEDICAL</td>\n",
              "      <td>B</td>\n",
              "      <td>5000</td>\n",
              "      <td>11.86</td>\n",
              "      <td>0</td>\n",
              "      <td>0.04</td>\n",
              "      <td>N</td>\n",
              "      <td>4</td>\n",
              "    </tr>\n",
              "    <tr>\n",
              "      <th>4</th>\n",
              "      <td>25138</td>\n",
              "      <td>29</td>\n",
              "      <td>80000</td>\n",
              "      <td>MORTGAGE</td>\n",
              "      <td>2.0</td>\n",
              "      <td>PERSONAL</td>\n",
              "      <td>A</td>\n",
              "      <td>5000</td>\n",
              "      <td>7.74</td>\n",
              "      <td>0</td>\n",
              "      <td>0.06</td>\n",
              "      <td>N</td>\n",
              "      <td>9</td>\n",
              "    </tr>\n",
              "  </tbody>\n",
              "</table>\n",
              "</div>\n",
              "      <button class=\"colab-df-convert\" onclick=\"convertToInteractive('df-7035eb1e-e323-419a-91c7-e477d6445d69')\"\n",
              "              title=\"Convert this dataframe to an interactive table.\"\n",
              "              style=\"display:none;\">\n",
              "        \n",
              "  <svg xmlns=\"http://www.w3.org/2000/svg\" height=\"24px\"viewBox=\"0 0 24 24\"\n",
              "       width=\"24px\">\n",
              "    <path d=\"M0 0h24v24H0V0z\" fill=\"none\"/>\n",
              "    <path d=\"M18.56 5.44l.94 2.06.94-2.06 2.06-.94-2.06-.94-.94-2.06-.94 2.06-2.06.94zm-11 1L8.5 8.5l.94-2.06 2.06-.94-2.06-.94L8.5 2.5l-.94 2.06-2.06.94zm10 10l.94 2.06.94-2.06 2.06-.94-2.06-.94-.94-2.06-.94 2.06-2.06.94z\"/><path d=\"M17.41 7.96l-1.37-1.37c-.4-.4-.92-.59-1.43-.59-.52 0-1.04.2-1.43.59L10.3 9.45l-7.72 7.72c-.78.78-.78 2.05 0 2.83L4 21.41c.39.39.9.59 1.41.59.51 0 1.02-.2 1.41-.59l7.78-7.78 2.81-2.81c.8-.78.8-2.07 0-2.86zM5.41 20L4 18.59l7.72-7.72 1.47 1.35L5.41 20z\"/>\n",
              "  </svg>\n",
              "      </button>\n",
              "      \n",
              "  <style>\n",
              "    .colab-df-container {\n",
              "      display:flex;\n",
              "      flex-wrap:wrap;\n",
              "      gap: 12px;\n",
              "    }\n",
              "\n",
              "    .colab-df-convert {\n",
              "      background-color: #E8F0FE;\n",
              "      border: none;\n",
              "      border-radius: 50%;\n",
              "      cursor: pointer;\n",
              "      display: none;\n",
              "      fill: #1967D2;\n",
              "      height: 32px;\n",
              "      padding: 0 0 0 0;\n",
              "      width: 32px;\n",
              "    }\n",
              "\n",
              "    .colab-df-convert:hover {\n",
              "      background-color: #E2EBFA;\n",
              "      box-shadow: 0px 1px 2px rgba(60, 64, 67, 0.3), 0px 1px 3px 1px rgba(60, 64, 67, 0.15);\n",
              "      fill: #174EA6;\n",
              "    }\n",
              "\n",
              "    [theme=dark] .colab-df-convert {\n",
              "      background-color: #3B4455;\n",
              "      fill: #D2E3FC;\n",
              "    }\n",
              "\n",
              "    [theme=dark] .colab-df-convert:hover {\n",
              "      background-color: #434B5C;\n",
              "      box-shadow: 0px 1px 3px 1px rgba(0, 0, 0, 0.15);\n",
              "      filter: drop-shadow(0px 1px 2px rgba(0, 0, 0, 0.3));\n",
              "      fill: #FFFFFF;\n",
              "    }\n",
              "  </style>\n",
              "\n",
              "      <script>\n",
              "        const buttonEl =\n",
              "          document.querySelector('#df-7035eb1e-e323-419a-91c7-e477d6445d69 button.colab-df-convert');\n",
              "        buttonEl.style.display =\n",
              "          google.colab.kernel.accessAllowed ? 'block' : 'none';\n",
              "\n",
              "        async function convertToInteractive(key) {\n",
              "          const element = document.querySelector('#df-7035eb1e-e323-419a-91c7-e477d6445d69');\n",
              "          const dataTable =\n",
              "            await google.colab.kernel.invokeFunction('convertToInteractive',\n",
              "                                                     [key], {});\n",
              "          if (!dataTable) return;\n",
              "\n",
              "          const docLinkHtml = 'Like what you see? Visit the ' +\n",
              "            '<a target=\"_blank\" href=https://colab.research.google.com/notebooks/data_table.ipynb>data table notebook</a>'\n",
              "            + ' to learn more about interactive tables.';\n",
              "          element.innerHTML = '';\n",
              "          dataTable['output_type'] = 'display_data';\n",
              "          await google.colab.output.renderOutput(dataTable, element);\n",
              "          const docLink = document.createElement('div');\n",
              "          docLink.innerHTML = docLinkHtml;\n",
              "          element.appendChild(docLink);\n",
              "        }\n",
              "      </script>\n",
              "    </div>\n",
              "  </div>\n",
              "  "
            ]
          },
          "metadata": {},
          "execution_count": 3
        }
      ]
    },
    {
      "cell_type": "code",
      "source": [
        "data.columns = data.columns.str.replace('Unnamed: 0', 'ID')"
      ],
      "metadata": {
        "id": "9rYEgpkLnL1a"
      },
      "execution_count": 4,
      "outputs": []
    },
    {
      "cell_type": "code",
      "source": [
        "columns =list(data.columns)\n",
        "columns"
      ],
      "metadata": {
        "id": "0Oc1JmDgme_O",
        "outputId": "258308cf-e9e7-4176-c52b-01610dd1de26",
        "colab": {
          "base_uri": "https://localhost:8080/"
        }
      },
      "execution_count": 5,
      "outputs": [
        {
          "output_type": "execute_result",
          "data": {
            "text/plain": [
              "['ID',\n",
              " 'person_age',\n",
              " 'person_income',\n",
              " 'person_home_ownership',\n",
              " 'person_emp_length',\n",
              " 'loan_intent',\n",
              " 'loan_grade',\n",
              " 'loan_amnt',\n",
              " 'loan_int_rate',\n",
              " 'loan_status',\n",
              " 'loan_percent_income',\n",
              " 'cb_person_default_on_file',\n",
              " 'cb_person_cred_hist_length']"
            ]
          },
          "metadata": {},
          "execution_count": 5
        }
      ]
    },
    {
      "cell_type": "code",
      "source": [
        "data.describe()"
      ],
      "metadata": {
        "colab": {
          "base_uri": "https://localhost:8080/",
          "height": 364
        },
        "id": "duvAFWHVpm8D",
        "outputId": "5d578793-a6d1-4347-cb2c-ec94b70ae696"
      },
      "execution_count": 6,
      "outputs": [
        {
          "output_type": "execute_result",
          "data": {
            "text/plain": [
              "                 ID   person_age  person_income  person_emp_length  \\\n",
              "count   8146.000000  8146.000000   8.146000e+03        7908.000000   \n",
              "mean   16313.148539    27.731770   6.648822e+04           4.824608   \n",
              "std     9375.383212     6.392684   5.034207e+04           4.293455   \n",
              "min        0.000000    20.000000   4.000000e+03           0.000000   \n",
              "25%     8172.750000    23.000000   3.900000e+04           2.000000   \n",
              "50%    16273.500000    26.000000   5.546500e+04           4.000000   \n",
              "75%    24398.750000    30.000000   8.000000e+04           7.000000   \n",
              "max    32570.000000   144.000000   1.200000e+06         123.000000   \n",
              "\n",
              "          loan_amnt  loan_int_rate  loan_status  loan_percent_income  \\\n",
              "count   8146.000000    7352.000000  8146.000000          8146.000000   \n",
              "mean    9682.933342      11.027690     0.221704             0.170849   \n",
              "std     6313.025846       3.237725     0.415418             0.106776   \n",
              "min      500.000000       5.420000     0.000000             0.000000   \n",
              "25%     5000.000000       7.900000     0.000000             0.090000   \n",
              "50%     8000.000000      10.990000     0.000000             0.150000   \n",
              "75%    12300.000000      13.470000     0.000000             0.230000   \n",
              "max    35000.000000      21.740000     1.000000             0.710000   \n",
              "\n",
              "       cb_person_cred_hist_length  \n",
              "count                 8146.000000  \n",
              "mean                     5.793273  \n",
              "std                      4.020205  \n",
              "min                      2.000000  \n",
              "25%                      3.000000  \n",
              "50%                      4.000000  \n",
              "75%                      8.000000  \n",
              "max                     30.000000  "
            ],
            "text/html": [
              "\n",
              "  <div id=\"df-c7d77577-104c-47ba-9452-fddd1b5baf3a\">\n",
              "    <div class=\"colab-df-container\">\n",
              "      <div>\n",
              "<style scoped>\n",
              "    .dataframe tbody tr th:only-of-type {\n",
              "        vertical-align: middle;\n",
              "    }\n",
              "\n",
              "    .dataframe tbody tr th {\n",
              "        vertical-align: top;\n",
              "    }\n",
              "\n",
              "    .dataframe thead th {\n",
              "        text-align: right;\n",
              "    }\n",
              "</style>\n",
              "<table border=\"1\" class=\"dataframe\">\n",
              "  <thead>\n",
              "    <tr style=\"text-align: right;\">\n",
              "      <th></th>\n",
              "      <th>ID</th>\n",
              "      <th>person_age</th>\n",
              "      <th>person_income</th>\n",
              "      <th>person_emp_length</th>\n",
              "      <th>loan_amnt</th>\n",
              "      <th>loan_int_rate</th>\n",
              "      <th>loan_status</th>\n",
              "      <th>loan_percent_income</th>\n",
              "      <th>cb_person_cred_hist_length</th>\n",
              "    </tr>\n",
              "  </thead>\n",
              "  <tbody>\n",
              "    <tr>\n",
              "      <th>count</th>\n",
              "      <td>8146.000000</td>\n",
              "      <td>8146.000000</td>\n",
              "      <td>8.146000e+03</td>\n",
              "      <td>7908.000000</td>\n",
              "      <td>8146.000000</td>\n",
              "      <td>7352.000000</td>\n",
              "      <td>8146.000000</td>\n",
              "      <td>8146.000000</td>\n",
              "      <td>8146.000000</td>\n",
              "    </tr>\n",
              "    <tr>\n",
              "      <th>mean</th>\n",
              "      <td>16313.148539</td>\n",
              "      <td>27.731770</td>\n",
              "      <td>6.648822e+04</td>\n",
              "      <td>4.824608</td>\n",
              "      <td>9682.933342</td>\n",
              "      <td>11.027690</td>\n",
              "      <td>0.221704</td>\n",
              "      <td>0.170849</td>\n",
              "      <td>5.793273</td>\n",
              "    </tr>\n",
              "    <tr>\n",
              "      <th>std</th>\n",
              "      <td>9375.383212</td>\n",
              "      <td>6.392684</td>\n",
              "      <td>5.034207e+04</td>\n",
              "      <td>4.293455</td>\n",
              "      <td>6313.025846</td>\n",
              "      <td>3.237725</td>\n",
              "      <td>0.415418</td>\n",
              "      <td>0.106776</td>\n",
              "      <td>4.020205</td>\n",
              "    </tr>\n",
              "    <tr>\n",
              "      <th>min</th>\n",
              "      <td>0.000000</td>\n",
              "      <td>20.000000</td>\n",
              "      <td>4.000000e+03</td>\n",
              "      <td>0.000000</td>\n",
              "      <td>500.000000</td>\n",
              "      <td>5.420000</td>\n",
              "      <td>0.000000</td>\n",
              "      <td>0.000000</td>\n",
              "      <td>2.000000</td>\n",
              "    </tr>\n",
              "    <tr>\n",
              "      <th>25%</th>\n",
              "      <td>8172.750000</td>\n",
              "      <td>23.000000</td>\n",
              "      <td>3.900000e+04</td>\n",
              "      <td>2.000000</td>\n",
              "      <td>5000.000000</td>\n",
              "      <td>7.900000</td>\n",
              "      <td>0.000000</td>\n",
              "      <td>0.090000</td>\n",
              "      <td>3.000000</td>\n",
              "    </tr>\n",
              "    <tr>\n",
              "      <th>50%</th>\n",
              "      <td>16273.500000</td>\n",
              "      <td>26.000000</td>\n",
              "      <td>5.546500e+04</td>\n",
              "      <td>4.000000</td>\n",
              "      <td>8000.000000</td>\n",
              "      <td>10.990000</td>\n",
              "      <td>0.000000</td>\n",
              "      <td>0.150000</td>\n",
              "      <td>4.000000</td>\n",
              "    </tr>\n",
              "    <tr>\n",
              "      <th>75%</th>\n",
              "      <td>24398.750000</td>\n",
              "      <td>30.000000</td>\n",
              "      <td>8.000000e+04</td>\n",
              "      <td>7.000000</td>\n",
              "      <td>12300.000000</td>\n",
              "      <td>13.470000</td>\n",
              "      <td>0.000000</td>\n",
              "      <td>0.230000</td>\n",
              "      <td>8.000000</td>\n",
              "    </tr>\n",
              "    <tr>\n",
              "      <th>max</th>\n",
              "      <td>32570.000000</td>\n",
              "      <td>144.000000</td>\n",
              "      <td>1.200000e+06</td>\n",
              "      <td>123.000000</td>\n",
              "      <td>35000.000000</td>\n",
              "      <td>21.740000</td>\n",
              "      <td>1.000000</td>\n",
              "      <td>0.710000</td>\n",
              "      <td>30.000000</td>\n",
              "    </tr>\n",
              "  </tbody>\n",
              "</table>\n",
              "</div>\n",
              "      <button class=\"colab-df-convert\" onclick=\"convertToInteractive('df-c7d77577-104c-47ba-9452-fddd1b5baf3a')\"\n",
              "              title=\"Convert this dataframe to an interactive table.\"\n",
              "              style=\"display:none;\">\n",
              "        \n",
              "  <svg xmlns=\"http://www.w3.org/2000/svg\" height=\"24px\"viewBox=\"0 0 24 24\"\n",
              "       width=\"24px\">\n",
              "    <path d=\"M0 0h24v24H0V0z\" fill=\"none\"/>\n",
              "    <path d=\"M18.56 5.44l.94 2.06.94-2.06 2.06-.94-2.06-.94-.94-2.06-.94 2.06-2.06.94zm-11 1L8.5 8.5l.94-2.06 2.06-.94-2.06-.94L8.5 2.5l-.94 2.06-2.06.94zm10 10l.94 2.06.94-2.06 2.06-.94-2.06-.94-.94-2.06-.94 2.06-2.06.94z\"/><path d=\"M17.41 7.96l-1.37-1.37c-.4-.4-.92-.59-1.43-.59-.52 0-1.04.2-1.43.59L10.3 9.45l-7.72 7.72c-.78.78-.78 2.05 0 2.83L4 21.41c.39.39.9.59 1.41.59.51 0 1.02-.2 1.41-.59l7.78-7.78 2.81-2.81c.8-.78.8-2.07 0-2.86zM5.41 20L4 18.59l7.72-7.72 1.47 1.35L5.41 20z\"/>\n",
              "  </svg>\n",
              "      </button>\n",
              "      \n",
              "  <style>\n",
              "    .colab-df-container {\n",
              "      display:flex;\n",
              "      flex-wrap:wrap;\n",
              "      gap: 12px;\n",
              "    }\n",
              "\n",
              "    .colab-df-convert {\n",
              "      background-color: #E8F0FE;\n",
              "      border: none;\n",
              "      border-radius: 50%;\n",
              "      cursor: pointer;\n",
              "      display: none;\n",
              "      fill: #1967D2;\n",
              "      height: 32px;\n",
              "      padding: 0 0 0 0;\n",
              "      width: 32px;\n",
              "    }\n",
              "\n",
              "    .colab-df-convert:hover {\n",
              "      background-color: #E2EBFA;\n",
              "      box-shadow: 0px 1px 2px rgba(60, 64, 67, 0.3), 0px 1px 3px 1px rgba(60, 64, 67, 0.15);\n",
              "      fill: #174EA6;\n",
              "    }\n",
              "\n",
              "    [theme=dark] .colab-df-convert {\n",
              "      background-color: #3B4455;\n",
              "      fill: #D2E3FC;\n",
              "    }\n",
              "\n",
              "    [theme=dark] .colab-df-convert:hover {\n",
              "      background-color: #434B5C;\n",
              "      box-shadow: 0px 1px 3px 1px rgba(0, 0, 0, 0.15);\n",
              "      filter: drop-shadow(0px 1px 2px rgba(0, 0, 0, 0.3));\n",
              "      fill: #FFFFFF;\n",
              "    }\n",
              "  </style>\n",
              "\n",
              "      <script>\n",
              "        const buttonEl =\n",
              "          document.querySelector('#df-c7d77577-104c-47ba-9452-fddd1b5baf3a button.colab-df-convert');\n",
              "        buttonEl.style.display =\n",
              "          google.colab.kernel.accessAllowed ? 'block' : 'none';\n",
              "\n",
              "        async function convertToInteractive(key) {\n",
              "          const element = document.querySelector('#df-c7d77577-104c-47ba-9452-fddd1b5baf3a');\n",
              "          const dataTable =\n",
              "            await google.colab.kernel.invokeFunction('convertToInteractive',\n",
              "                                                     [key], {});\n",
              "          if (!dataTable) return;\n",
              "\n",
              "          const docLinkHtml = 'Like what you see? Visit the ' +\n",
              "            '<a target=\"_blank\" href=https://colab.research.google.com/notebooks/data_table.ipynb>data table notebook</a>'\n",
              "            + ' to learn more about interactive tables.';\n",
              "          element.innerHTML = '';\n",
              "          dataTable['output_type'] = 'display_data';\n",
              "          await google.colab.output.renderOutput(dataTable, element);\n",
              "          const docLink = document.createElement('div');\n",
              "          docLink.innerHTML = docLinkHtml;\n",
              "          element.appendChild(docLink);\n",
              "        }\n",
              "      </script>\n",
              "    </div>\n",
              "  </div>\n",
              "  "
            ]
          },
          "metadata": {},
          "execution_count": 6
        }
      ]
    },
    {
      "cell_type": "code",
      "source": [
        "# Check the column names and datatypes\n",
        "data.info()"
      ],
      "metadata": {
        "colab": {
          "base_uri": "https://localhost:8080/"
        },
        "id": "GTAytDslp9gT",
        "outputId": "733b087d-357a-4379-858d-852378a9af8a"
      },
      "execution_count": 7,
      "outputs": [
        {
          "output_type": "stream",
          "name": "stdout",
          "text": [
            "<class 'pandas.core.frame.DataFrame'>\n",
            "RangeIndex: 8146 entries, 0 to 8145\n",
            "Data columns (total 13 columns):\n",
            " #   Column                      Non-Null Count  Dtype  \n",
            "---  ------                      --------------  -----  \n",
            " 0   ID                          8146 non-null   int64  \n",
            " 1   person_age                  8146 non-null   int64  \n",
            " 2   person_income               8146 non-null   int64  \n",
            " 3   person_home_ownership       8146 non-null   object \n",
            " 4   person_emp_length           7908 non-null   float64\n",
            " 5   loan_intent                 8146 non-null   object \n",
            " 6   loan_grade                  8146 non-null   object \n",
            " 7   loan_amnt                   8146 non-null   int64  \n",
            " 8   loan_int_rate               7352 non-null   float64\n",
            " 9   loan_status                 8146 non-null   int64  \n",
            " 10  loan_percent_income         8146 non-null   float64\n",
            " 11  cb_person_default_on_file   8146 non-null   object \n",
            " 12  cb_person_cred_hist_length  8146 non-null   int64  \n",
            "dtypes: float64(3), int64(6), object(4)\n",
            "memory usage: 827.5+ KB\n"
          ]
        }
      ]
    },
    {
      "cell_type": "code",
      "source": [
        "# col_type = data.dtypes\n",
        "# col_type\n",
        "# cat_col = ['cb_person_default_on_file', 'loan_grade', 'loan_intent', 'person_home_ownership']\n",
        "\n"
      ],
      "metadata": {
        "id": "2UhKicMSqa_A"
      },
      "execution_count": 8,
      "outputs": []
    },
    {
      "cell_type": "code",
      "source": [
        "# Import LabelEncoder\n",
        "from sklearn import preprocessing\n",
        "#creating labelEncoder\n",
        "le = preprocessing.LabelEncoder()\n",
        "data['cb_person_default_on_file']=le.fit_transform(data['cb_person_default_on_file'])"
      ],
      "metadata": {
        "id": "sJjJsJtYwquu"
      },
      "execution_count": 9,
      "outputs": []
    },
    {
      "cell_type": "code",
      "source": [
        "# Split data into train and test sets\n",
        "X = data.loc[:,['ID','person_income','loan_status']]\n",
        "y = data['cb_person_default_on_file']\n",
        "print(X, y)\n",
        "X_train, X_test, y_train, y_test = train_test_split(X,y,test_size=0.3, random_state=42)"
      ],
      "metadata": {
        "id": "q1LqI6_FeSzJ",
        "colab": {
          "base_uri": "https://localhost:8080/"
        },
        "outputId": "38e46bff-49f8-4ff2-a0c6-c4465ec177db"
      },
      "execution_count": 10,
      "outputs": [
        {
          "output_type": "stream",
          "name": "stdout",
          "text": [
            "         ID  person_income  loan_status\n",
            "0      1220          36900            1\n",
            "1      6889          50004            0\n",
            "2     29945          28000            0\n",
            "3     15469         138000            0\n",
            "4     25138          80000            0\n",
            "...     ...            ...          ...\n",
            "8141  31176          80000            0\n",
            "8142   2112          30000            0\n",
            "8143  12172          74000            1\n",
            "8144  10247          66000            0\n",
            "8145   6381          36628            0\n",
            "\n",
            "[8146 rows x 3 columns] 0       0\n",
            "1       0\n",
            "2       1\n",
            "3       0\n",
            "4       0\n",
            "       ..\n",
            "8141    0\n",
            "8142    0\n",
            "8143    0\n",
            "8144    0\n",
            "8145    0\n",
            "Name: cb_person_default_on_file, Length: 8146, dtype: int64\n"
          ]
        }
      ]
    },
    {
      "cell_type": "code",
      "source": [
        "#Create a Gaussian Classifier\n",
        "model_GSB = GaussianNB()\n",
        "\n",
        "# Train the model using the training sets\n",
        "model_GSB.fit(X_train,y_train)\n",
        "\n",
        "# making predictions on the testing set\n",
        "y_pred = model_GSB.predict(X_test)\n",
        "  \n",
        "# comparing actual response values (y_test) with predicted response values (y_pred)\n",
        "from sklearn import metrics\n",
        "print(\"Gaussian Naive Bayes model accuracy(in %):\", metrics.accuracy_score(y_test, y_pred)*100)"
      ],
      "metadata": {
        "colab": {
          "base_uri": "https://localhost:8080/"
        },
        "id": "AokuD7SqxhXW",
        "outputId": "7a46c77b-4250-4937-a361-53a175750ddc"
      },
      "execution_count": 11,
      "outputs": [
        {
          "output_type": "stream",
          "name": "stdout",
          "text": [
            "Gaussian Naive Bayes model accuracy(in %): 82.28314238952537\n"
          ]
        }
      ]
    },
    {
      "cell_type": "code",
      "source": [
        "from sklearn.ensemble import RandomForestClassifier\n",
        "\n",
        "# creating a RF classifier\n",
        "clf = RandomForestClassifier(n_estimators = 100)  \n",
        "  \n",
        "# Training the model on the training dataset\n",
        "# fit function is used to train the model using the training sets as parameters\n",
        "clf.fit(X_train, y_train)\n",
        "  \n",
        "# performing predictions on the test dataset\n",
        "y_pred_clf = clf.predict(X_test)\n",
        "  \n",
        "# metrics are used to find accuracy or error\n",
        "from sklearn import metrics  \n",
        "print()\n",
        "  \n",
        "# using metrics module for accuracy calculation\n",
        "print(\"ACCURACY OF THE MODEL: \", metrics.accuracy_score(y_test, y_pred_clf))"
      ],
      "metadata": {
        "colab": {
          "base_uri": "https://localhost:8080/"
        },
        "id": "PR5L_0B0yngk",
        "outputId": "23a87e7f-3da7-4afe-cf30-ac49b1860f9d"
      },
      "execution_count": 12,
      "outputs": [
        {
          "output_type": "stream",
          "name": "stdout",
          "text": [
            "\n",
            "ACCURACY OF THE MODEL:  0.7581833060556464\n"
          ]
        }
      ]
    },
    {
      "cell_type": "code",
      "source": [
        "from sklearn.neighbors import KNeighborsClassifier\n",
        " \n",
        "knn = KNeighborsClassifier(n_neighbors = 15)\n",
        " \n",
        "knn.fit(X_train, y_train)\n",
        "y_pred_knn = knn.predict(X_test)\n",
        " \n",
        "# Predictions and Evaluations\n",
        "from sklearn.metrics import classification_report, confusion_matrix\n",
        "print(confusion_matrix(y_test, y_pred_knn))\n",
        " \n",
        "print(classification_report(y_test, y_pred_knn))"
      ],
      "metadata": {
        "colab": {
          "base_uri": "https://localhost:8080/"
        },
        "id": "BTbjyk9ozh3r",
        "outputId": "d7ec05cc-64ad-485f-c8d8-df47121e32ee"
      },
      "execution_count": 13,
      "outputs": [
        {
          "output_type": "stream",
          "name": "stdout",
          "text": [
            "[[2010    2]\n",
            " [ 431    1]]\n",
            "              precision    recall  f1-score   support\n",
            "\n",
            "           0       0.82      1.00      0.90      2012\n",
            "           1       0.33      0.00      0.00       432\n",
            "\n",
            "    accuracy                           0.82      2444\n",
            "   macro avg       0.58      0.50      0.45      2444\n",
            "weighted avg       0.74      0.82      0.74      2444\n",
            "\n"
          ]
        }
      ]
    }
  ]
}